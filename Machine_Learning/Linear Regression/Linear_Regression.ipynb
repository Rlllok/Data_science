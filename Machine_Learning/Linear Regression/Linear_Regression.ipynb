{
 "cells": [
  {
   "cell_type": "code",
   "execution_count": 1,
   "metadata": {},
   "outputs": [],
   "source": [
    "import pandas as pd\n",
    "import numpy as np\n",
    "import matplotlib.pyplot as plt\n",
    "import seaborn as sns\n",
    "from sklearn.metrics import r2_score\n",
    "from sklearn.linear_model import LinearRegression"
   ]
  },
  {
   "cell_type": "code",
   "execution_count": 25,
   "metadata": {},
   "outputs": [],
   "source": [
    "data = pd.read_excel('data.xlsx')\n",
    "X = data.iloc[:, :4].values\n",
    "y = data.iloc[:, -1].values"
   ]
  },
  {
   "cell_type": "code",
   "execution_count": 24,
   "metadata": {},
   "outputs": [],
   "source": [
    "from sklearn.preprocessing import StandardScaler\n",
    "sc = StandardScaler()\n",
    "X = sc.fit_transform(X)"
   ]
  },
  {
   "cell_type": "code",
   "execution_count": 4,
   "metadata": {},
   "outputs": [],
   "source": [
    "m = 7000\n",
    "f = 2\n",
    "X_train = X[:m,:f]\n",
    "X_train = np.c_[np.ones(len(X_train),dtype='int64'),X_train]\n",
    "y_train = y[:m, np.newaxis]\n",
    "X_test = X[m:,:f]\n",
    "X_test = np.c_[np.ones(len(X_test),dtype='int64'),X_test]\n",
    "y_test = y[m:, np.newaxis]"
   ]
  },
  {
   "cell_type": "code",
   "execution_count": 5,
   "metadata": {},
   "outputs": [],
   "source": [
    "def cost_function(X, y, W):\n",
    "    n = y.shape[0]\n",
    "    J = np.sum((np.dot(X, W) - y)**2) / (2*m)\n",
    "    return J"
   ]
  },
  {
   "cell_type": "code",
   "execution_count": 6,
   "metadata": {},
   "outputs": [],
   "source": [
    "def gradient_decent(X, y, W, alpha, iterations):\n",
    "    cost_history = []\n",
    "    n = y.shape[0]\n",
    "    \n",
    "    for iteration in range(iterations):\n",
    "        y_hat = np.dot(X, W)\n",
    "        loss = y_hat - y\n",
    "        dW = np.dot(X.T, loss) / n\n",
    "        W = W - alpha*dW\n",
    "        cost = cost_function(X, y, W)\n",
    "        cost_history.append(cost)\n",
    "        \n",
    "    return W, cost_history"
   ]
  },
  {
   "cell_type": "code",
   "execution_count": 26,
   "metadata": {},
   "outputs": [
    {
     "data": {
      "text/plain": [
       "array([[454.33286521],\n",
       "       [-11.83093738],\n",
       "       [ -5.01409897]])"
      ]
     },
     "execution_count": 26,
     "metadata": {},
     "output_type": "execute_result"
    }
   ],
   "source": [
    "W = np.zeros((X_train.shape[1], 1))\n",
    "alpha = 0.005\n",
    "iter_ = 2000\n",
    "newB, cost_history = gradient_decent(X_train, y_train, W, alpha, iter_)\n",
    "newB"
   ]
  },
  {
   "cell_type": "code",
   "execution_count": 32,
   "metadata": {},
   "outputs": [
    {
     "data": {
      "text/plain": [
       "0.9063353621146258"
      ]
     },
     "execution_count": 32,
     "metadata": {},
     "output_type": "execute_result"
    }
   ],
   "source": [
    "r2_score(np.dot(X_test, newB), y_test)"
   ]
  },
  {
   "cell_type": "code",
   "execution_count": 9,
   "metadata": {},
   "outputs": [
    {
     "data": {
      "image/png": "[encoded data removed]",
      "text/plain": [
       "<Figure size 432x288 with 1 Axes>"
      ]
     },
     "metadata": {
      "needs_background": "light"
     },
     "output_type": "display_data"
    }
   ],
   "source": [
    "plt.plot(range(iter_), cost_history)\n",
    "plt.xlabel('Num of iteration')\n",
    "plt.ylabel('Loss')\n",
    "plt.show()"
   ]
  },
  {
   "cell_type": "markdown",
   "metadata": {},
   "source": [
    "# Maximum Likelihood Estimation (MLE)\n",
    "___\n",
    "Maximum likelihood estimation (MLE) is a technique used for estimating the parameters of a given distribution, using some observed data. For example, if a population is known to follow a “normal distribution” but the “mean” and “variance” are unknown, MLE can be used to estimate them using a limited sample of the population. MLE does that by finding particular values for the parameters (mean and variance) so that the resultant model with those parameters (mean and variance) would have generated the data.\n",
    "\n",
    "#### **Calculating Likelihood**\n",
    "$$ L(parameters | data) = \\prod_{i=0}^{n} f(data_i | parameters) $$\n",
    "####  **Log Likelihood**\n",
    "$$ \\ln(L(parameters | data)) = \\sum_{i=0}^{n} \\ln(f(data_i | parameters)) $$\n",
    "## MLE for Linear Regression\n",
    "In linear regression the trick that we do is, we take the model that we need to find, as the mean of the above stated normal distribution. Because we know how to find MLE values of a mean in a normal distribution.\n",
    "\n",
    "But there is a special thing about this mean. That is, it’s not a fixed value. In earlier discussed normal distribution models, the mean was a fixed value (a number). But in linear regression, the mean is a function (ŷ). So you need to understand that for every x value (input) , there will be a number generated by function ŷ as the mean. So from ŷ function, we get a set of values as means. And the important thing to understand from this is that mean for each y value (each result / label) is a different. That is, mean for each y value (label) is the value predicted by our model.\n",
    "\n",
    "$$ \\hat{y} = w_0 + w_1x_1 + ... + w_dx_d $$ \n",
    "$$ \\hat{y} = X_{n*d}W_{d*1} $$\n",
    "\n",
    "We can consider this ŷ data as also in a normal distribution. But this time, their mean values will be them self since they fall along on top of the ŷ line perfectly. And so the variance of these ŷ data (predicted labels) will be 0. So, ŷ~N(XW , 0)\n",
    "\n",
    "We have an error term called ε (residual) which is the distance between predicted value (ŷ) and actual value(y).\n",
    "$$ \\epsilon \\sim N(0, \\sigma^2) $$ \n",
    "\n",
    "And we know that y = ŷ + ε and y labels are normally distributed. Our aim is to estimate the best values for mean and variance of normal distribution y. Let’s get the mean and variance of y in terms of ŷ and ε normal distributions. We know the mean is termed as expectation. So let’s get the expectation of y=ŷ + ε equation in order to find the mean (expectation) of y.\n",
    "\n",
    "**Mean:**\n",
    "$$ E(y) = E(\\hat{y} - \\epsilon) $$\n",
    "$$ E(y) = E(\\hat{y}) - E(\\epsilon) $$\n",
    "$$ E(y) = XW - 0 $$\n",
    "\n",
    "**Variance:**\n",
    "$$ Var(y) = Var(y - \\epsilon) $$\n",
    "$$ Var(y) = Var(y) - Var(\\epsilon) $$\n",
    "$$ Var(y) = 0 + \\sigma^2 $$\n",
    "\n",
    "**Likelihood:**\n",
    "$$ L(XW, \\sigma^2 | x) = (\\frac{1}{\\sqrt{2\\pi\\sigma^2}})^n * e^{\\frac{\\sum_{i=1}^{n}(y_i - x_iw)^2}{2\\sigma^2}} $$\n",
    "**Log-likelihood:**\n",
    "$$ \\ln(L(XW, \\sigma^2 | x)) = -\\frac{n}{2}\\ln{(2\\pi)} - \\frac{n}{2}\\ln{(\\sigma^2)} - \\frac{(Y - XW)^T(Y - XW)}{2\\sigma^2}$$\n",
    "$$ \\frac{\\partial\\ln(L(XW, \\sigma^2 | x))}{\\partial W} = \\frac{1}{2\\sigma^2} (2X^TY + 2X^TXW) $$\n",
    "\n",
    "\n",
    "**Optimal values of W is whene $\\frac{\\partial\\ln(L(XW, \\sigma^2 | x))}{\\partial W} = 0$ :**\n",
    "$$ \\frac{1}{2\\sigma^2} (2X^TY + 2X^TXW) = 0 $$\n",
    "$$ W = \\frac{X^TY}{X^TX} $$\n"
   ]
  },
  {
   "cell_type": "code",
   "execution_count": 34,
   "metadata": {},
   "outputs": [
    {
     "data": {
      "text/plain": [
       "0.9144248778166375"
      ]
     },
     "execution_count": 34,
     "metadata": {},
     "output_type": "execute_result"
    }
   ],
   "source": [
    "reg = LinearRegression()\n",
    "reg.fit(X_train, y_train)\n",
    "reg.score(X_test, y_test)"
   ]
  },
  {
   "cell_type": "code",
   "execution_count": null,
   "metadata": {},
   "outputs": [],
   "source": []
  }
 ],
 "metadata": {
  "kernelspec": {
   "display_name": "Python 3",
   "language": "python",
   "name": "python3"
  },
  "language_info": {
   "codemirror_mode": {
    "name": "ipython",
    "version": 3
   },
   "file_extension": ".py",
   "mimetype": "text/x-python",
   "name": "python",
   "nbconvert_exporter": "python",
   "pygments_lexer": "ipython3",
   "version": "3.7.6"
  }
 },
 "nbformat": 4,
 "nbformat_minor": 4
}
