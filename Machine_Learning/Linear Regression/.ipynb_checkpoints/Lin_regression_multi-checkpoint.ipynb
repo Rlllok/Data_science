{
 "cells": [
  {
   "cell_type": "code",
   "execution_count": 3,
   "metadata": {
    "ExecuteTime": {
     "end_time": "2020-03-03T12:10:50.890734Z",
     "start_time": "2020-03-03T12:10:50.887846Z"
    }
   },
   "outputs": [],
   "source": [
    "import numpy as np\n",
    "import matplotlib.pyplot as plt\n",
    "import csv\n",
    "from mpl_toolkits.mplot3d import Axes3D"
   ]
  },
  {
   "cell_type": "code",
   "execution_count": 4,
   "metadata": {
    "ExecuteTime": {
     "end_time": "2020-03-03T12:10:51.255904Z",
     "start_time": "2020-03-03T12:10:50.895607Z"
    }
   },
   "outputs": [
    {
     "data": {
      "text/plain": [
       "(47, 3)"
      ]
     },
     "execution_count": 4,
     "metadata": {},
     "output_type": "execute_result"
    }
   ],
   "source": [
    "data_path = \"ex1data2.txt\"\n",
    "with open(data_path, \"r\", newline=\"\") as file:\n",
    "    reader = csv.reader(file)\n",
    "    data = np.array(list(reader), dtype=float)\n",
    "\n",
    "data.shape"
   ]
  },
  {
   "cell_type": "code",
   "execution_count": 5,
   "metadata": {
    "ExecuteTime": {
     "end_time": "2020-03-03T12:10:51.346587Z",
     "start_time": "2020-03-03T12:10:51.259674Z"
    }
   },
   "outputs": [
    {
     "name": "stdout",
     "output_type": "stream",
     "text": [
      "(47, 2)\n",
      "(47, 1)\n"
     ]
    }
   ],
   "source": [
    "X = np.reshape(data[:,0:2], (-1,2))\n",
    "y = np.reshape(data[:,2], (-1,1))\n",
    "m = y.shape[0]\n",
    "print(X.shape)\n",
    "print(y.shape)"
   ]
  },
  {
   "cell_type": "code",
   "execution_count": 6,
   "metadata": {
    "ExecuteTime": {
     "end_time": "2020-03-03T12:10:51.412905Z",
     "start_time": "2020-03-03T12:10:51.351668Z"
    }
   },
   "outputs": [
    {
     "name": "stdout",
     "output_type": "stream",
     "text": [
      "(47, 3)\n",
      "[[ 1.          0.13141542 -0.22609337]\n",
      " [ 1.         -0.5096407  -0.22609337]\n",
      " [ 1.          0.5079087  -0.22609337]\n",
      " [ 1.         -0.74367706 -1.5543919 ]\n",
      " [ 1.          1.27107075  1.10220517]\n",
      " [ 1.         -0.01994505  1.10220517]\n",
      " [ 1.         -0.59358852 -0.22609337]\n",
      " [ 1.         -0.72968575 -0.22609337]\n",
      " [ 1.         -0.78946678 -0.22609337]\n",
      " [ 1.         -0.64446599 -0.22609337]]\n"
     ]
    }
   ],
   "source": [
    "def normalization(X):\n",
    "    sigma = np.std(X, axis=0, keepdims=True)\n",
    "    mu = np.mean(X, axis=0, keepdims=True)\n",
    "    return (X - mu)/sigma\n",
    "\n",
    "X = normalization(X)\n",
    "X = np.append(np.ones([m,1]), X, axis=1)\n",
    "print(X.shape)\n",
    "print(X[:10])"
   ]
  },
  {
   "cell_type": "code",
   "execution_count": 7,
   "metadata": {
    "ExecuteTime": {
     "end_time": "2020-03-03T12:10:51.484488Z",
     "start_time": "2020-03-03T12:10:51.415793Z"
    }
   },
   "outputs": [
    {
     "data": {
      "text/plain": [
       "65591548106.45744"
      ]
     },
     "execution_count": 7,
     "metadata": {},
     "output_type": "execute_result"
    }
   ],
   "source": [
    "def h_x(theta, X):\n",
    "    return X.dot(theta)\n",
    "\n",
    "def loss(h, y):\n",
    "    m = y.shape[0]\n",
    "    temp = h - y\n",
    "    return np.float(temp.T.dot(temp)/(2*m))\n",
    "    \n",
    "theta = np.zeros((3, 1))\n",
    "h = h_x(theta, X)\n",
    "loss(h, y)"
   ]
  },
  {
   "cell_type": "code",
   "execution_count": 8,
   "metadata": {
    "ExecuteTime": {
     "end_time": "2020-03-03T12:10:51.549682Z",
     "start_time": "2020-03-03T12:10:51.487972Z"
    }
   },
   "outputs": [
    {
     "name": "stdout",
     "output_type": "stream",
     "text": [
      "(1, 47)\n",
      "(47, 3)\n",
      "(3, 1)\n"
     ]
    },
    {
     "data": {
      "text/plain": [
       "(3, 1)"
      ]
     },
     "execution_count": 8,
     "metadata": {},
     "output_type": "execute_result"
    }
   ],
   "source": [
    "temp1 = (0.01/m)*np.dot((h_x(theta, X) - y).T, X).T\n",
    "print((h_x(theta, X) - y).T.shape)\n",
    "print(X.shape)\n",
    "print(temp1.shape)\n",
    "theta.shape"
   ]
  },
  {
   "cell_type": "code",
   "execution_count": 9,
   "metadata": {
    "ExecuteTime": {
     "end_time": "2020-03-03T12:10:51.627594Z",
     "start_time": "2020-03-03T12:10:51.551366Z"
    }
   },
   "outputs": [
    {
     "name": "stdout",
     "output_type": "stream",
     "text": [
      "[1 2 3 4 5]\n",
      "[[1]\n",
      " [2]\n",
      " [3]\n",
      " [4]\n",
      " [5]]\n"
     ]
    },
    {
     "data": {
      "text/plain": [
       "array([[ 1,  2,  3,  4,  5],\n",
       "       [ 2,  4,  6,  8, 10],\n",
       "       [ 3,  6,  9, 12, 15],\n",
       "       [ 4,  8, 12, 16, 20],\n",
       "       [ 5, 10, 15, 20, 25]])"
      ]
     },
     "execution_count": 9,
     "metadata": {},
     "output_type": "execute_result"
    }
   ],
   "source": [
    "s_a = np.array([1, 2, 3, 4, 5])\n",
    "s_b = np.array([[1, 2, 3, 4, 5]]).T\n",
    "print(s_a)\n",
    "print(s_b)\n",
    "s_b * s_a"
   ]
  },
  {
   "cell_type": "code",
   "execution_count": 10,
   "metadata": {
    "ExecuteTime": {
     "end_time": "2020-03-03T12:10:51.734515Z",
     "start_time": "2020-03-03T12:10:51.633249Z"
    }
   },
   "outputs": [
    {
     "data": {
      "text/plain": [
       "array([[340412.65894002],\n",
       "       [109439.22578243],\n",
       "       [ -6569.78416695]])"
      ]
     },
     "execution_count": 10,
     "metadata": {},
     "output_type": "execute_result"
    }
   ],
   "source": [
    "def gradient_descent(X, y, theta, alpha, num_iters):\n",
    "    m = y.shape[0]\n",
    "    loss_history = []\n",
    "    for i in range(num_iters):\n",
    "        theta = theta - (alpha/m)*np.dot((h_x(theta, X) - y).T, X).T\n",
    "        loss_history.append(loss(h_x(theta, X), y))\n",
    "    \n",
    "    return [theta, loss_history]\n",
    "\n",
    "alpha = 0.01\n",
    "N_of_iter = 2000\n",
    "theta, loss_history = gradient_descent(X, y, theta, alpha, N_of_iter)\n",
    "theta"
   ]
  },
  {
   "cell_type": "code",
   "execution_count": 11,
   "metadata": {
    "ExecuteTime": {
     "end_time": "2020-03-03T12:10:51.761497Z",
     "start_time": "2020-03-03T12:10:51.737326Z"
    }
   },
   "outputs": [
    {
     "name": "stdout",
     "output_type": "stream",
     "text": [
      "[[356280.04560844]\n",
      " [286123.36019504]\n",
      " [397483.17831155]\n",
      " [269237.23670932]\n",
      " [472276.40721786]\n",
      " [330988.63798254]\n",
      " [276936.17520043]\n",
      " [262041.79952735]\n",
      " [255499.410213  ]\n",
      " [271368.18429461]]\n",
      "[[399900.]\n",
      " [329900.]\n",
      " [369000.]\n",
      " [232000.]\n",
      " [539900.]\n",
      " [299900.]\n",
      " [314900.]\n",
      " [198999.]\n",
      " [212000.]\n",
      " [242500.]]\n"
     ]
    }
   ],
   "source": [
    "print(h_x(theta, X[:10]))\n",
    "print(y[:10])"
   ]
  },
  {
   "cell_type": "code",
   "execution_count": 12,
   "metadata": {
    "ExecuteTime": {
     "end_time": "2020-03-03T12:10:52.023954Z",
     "start_time": "2020-03-03T12:10:51.764000Z"
    }
   },
   "outputs": [
    {
     "data": {
      "image/png": "[encoded data removed]",
      "text/plain": [
       "<Figure size 432x288 with 1 Axes>"
      ]
     },
     "metadata": {
      "needs_background": "light"
     },
     "output_type": "display_data"
    },
    {
     "data": {
      "text/plain": [
       "2043280082.9261768"
      ]
     },
     "execution_count": 12,
     "metadata": {},
     "output_type": "execute_result"
    }
   ],
   "source": [
    "plt.plot(range(N_of_iter), loss_history)\n",
    "plt.xlabel('Num of iteration')\n",
    "plt.ylabel('Loss')\n",
    "plt.show()\n",
    "loss_history[-1]"
   ]
  },
  {
   "cell_type": "code",
   "execution_count": 13,
   "metadata": {
    "ExecuteTime": {
     "end_time": "2020-03-03T12:10:53.447024Z",
     "start_time": "2020-03-03T12:10:52.026426Z"
    }
   },
   "outputs": [
    {
     "data": {
      "image/png": "[encoded data removed]",
      "text/plain": [
       "<Figure size 1080x576 with 8 Axes>"
      ]
     },
     "metadata": {
      "needs_background": "light"
     },
     "output_type": "display_data"
    }
   ],
   "source": [
    "alpha_arr = [3, 1, 0.3, 0.1, 0.03, 0.01, 0.003, 0.001]\n",
    "N_of_iter = 500\n",
    "plt.figure(figsize=(15,8))\n",
    "plt.subplots_adjust(top=1, right=1.2, left=0.1)\n",
    "for i, alpha in enumerate(alpha_arr):    \n",
    "    theta = np.zeros((3, 1))\n",
    "    theta, loss_history = gradient_descent(X, y, theta, alpha, N_of_iter)\n",
    "    plt.subplot(2, 4, i+1)\n",
    "    plt.plot(range(N_of_iter), loss_history)\n",
    "    plt.xlabel('Num of iteration')\n",
    "    plt.ylabel('Loss')\n",
    "    plt.title('l_rate = ' + str(alpha))\n",
    "\n",
    "plt.show()"
   ]
  },
  {
   "cell_type": "code",
   "execution_count": null,
   "metadata": {},
   "outputs": [],
   "source": []
  }
 ],
 "metadata": {
  "kernelspec": {
   "display_name": "Python 3",
   "language": "python",
   "name": "python3"
  },
  "language_info": {
   "codemirror_mode": {
    "name": "ipython",
    "version": 3
   },
   "file_extension": ".py",
   "mimetype": "text/x-python",
   "name": "python",
   "nbconvert_exporter": "python",
   "pygments_lexer": "ipython3",
   "version": "3.7.6"
  },
  "toc": {
   "base_numbering": 1,
   "nav_menu": {},
   "number_sections": true,
   "sideBar": true,
   "skip_h1_title": false,
   "title_cell": "Table of Contents",
   "title_sidebar": "Contents",
   "toc_cell": false,
   "toc_position": {},
   "toc_section_display": true,
   "toc_window_display": false
  },
  "varInspector": {
   "cols": {
    "lenName": 16,
    "lenType": 16,
    "lenVar": 40
   },
   "kernels_config": {
    "python": {
     "delete_cmd_postfix": "",
     "delete_cmd_prefix": "del ",
     "library": "var_list.py",
     "varRefreshCmd": "print(var_dic_list())"
    },
    "r": {
     "delete_cmd_postfix": ") ",
     "delete_cmd_prefix": "rm(",
     "library": "var_list.r",
     "varRefreshCmd": "cat(var_dic_list()) "
    }
   },
   "types_to_exclude": [
    "module",
    "function",
    "builtin_function_or_method",
    "instance",
    "_Feature"
   ],
   "window_display": false
  }
 },
 "nbformat": 4,
 "nbformat_minor": 2
}
