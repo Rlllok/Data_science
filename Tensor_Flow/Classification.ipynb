{
 "cells": [
  {
   "cell_type": "code",
   "execution_count": 1,
   "metadata": {},
   "outputs": [],
   "source": [
    "import tensorflow as tf\n",
    "import pandas as pd"
   ]
  },
  {
   "cell_type": "code",
   "execution_count": 2,
   "metadata": {},
   "outputs": [
    {
     "name": "stdout",
     "output_type": "stream",
     "text": [
      "Downloading data from https://storage.googleapis.com/download.tensorflow.org/data/iris_training.csv\n",
      "8192/2194 [================================================================================================================] - 0s 0us/step\n",
      "Downloading data from https://storage.googleapis.com/download.tensorflow.org/data/iris_test.csv\n",
      "8192/573 [============================================================================================================================================================================================================================================================================================================================================================================================================================================] - 0s 0us/step\n"
     ]
    }
   ],
   "source": [
    "train_path = tf.keras.utils.get_file(\n",
    "    \"iris_training.csv\", \"https://storage.googleapis.com/download.tensorflow.org/data/iris_training.csv\",\n",
    "    cache_dir=\".\")\n",
    "test_path = tf.keras.utils.get_file(\n",
    "    \"iris_test.csv\", \"https://storage.googleapis.com/download.tensorflow.org/data/iris_test.csv\",\n",
    "    cache_dir=\".\")"
   ]
  },
  {
   "cell_type": "code",
   "execution_count": 12,
   "metadata": {},
   "outputs": [],
   "source": [
    "CSV_COLUMN_NAMES = ['SepalLength', 'SepalWidth', 'PetalLength', 'PetalWidth', 'Species']\n",
    "SPECIES = ['Setosa', 'Versicolor', 'Virginica']"
   ]
  },
  {
   "cell_type": "code",
   "execution_count": 17,
   "metadata": {},
   "outputs": [],
   "source": [
    "train = pd.read_csv(train_path, names=CSV_COLUMN_NAMES, header=0)\n",
    "test = pd.read_csv(test_path, names=CSV_COLUMN_NAMES, header=0)"
   ]
  },
  {
   "cell_type": "code",
   "execution_count": 18,
   "metadata": {},
   "outputs": [],
   "source": [
    "train_y = train.pop('Species')\n",
    "test_y = test.pop('Species')"
   ]
  },
  {
   "cell_type": "code",
   "execution_count": 29,
   "metadata": {},
   "outputs": [],
   "source": [
    "def input_fn(data, labels, training=True, batch_size=256):\n",
    "    dataset = tf.data.Dataset.from_tensor_slices((dict(data), labels))\n",
    "    \n",
    "    if training:\n",
    "        dataset = dataset.shuffle(1000).repeat()\n",
    "        \n",
    "    return dataset.batch(batch_size)"
   ]
  },
  {
   "cell_type": "code",
   "execution_count": 25,
   "metadata": {},
   "outputs": [],
   "source": [
    "feature_columns = []\n",
    "for key in train.keys():\n",
    "    feature_columns.append(tf.feature_column.numeric_column(key=key))"
   ]
  },
  {
   "cell_type": "code",
   "execution_count": 26,
   "metadata": {},
   "outputs": [
    {
     "name": "stdout",
     "output_type": "stream",
     "text": [
      "INFO:tensorflow:Using default config.\n",
      "WARNING:tensorflow:Using temporary folder as model directory: /tmp/tmpz7y0be92\n",
      "INFO:tensorflow:Using config: {'_model_dir': '/tmp/tmpz7y0be92', '_tf_random_seed': None, '_save_summary_steps': 100, '_save_checkpoints_steps': None, '_save_checkpoints_secs': 600, '_session_config': allow_soft_placement: true\n",
      "graph_options {\n",
      "  rewrite_options {\n",
      "    meta_optimizer_iterations: ONE\n",
      "  }\n",
      "}\n",
      ", '_keep_checkpoint_max': 5, '_keep_checkpoint_every_n_hours': 10000, '_log_step_count_steps': 100, '_train_distribute': None, '_device_fn': None, '_protocol': None, '_eval_distribute': None, '_experimental_distribute': None, '_experimental_max_worker_delay_secs': None, '_session_creation_timeout_secs': 7200, '_service': None, '_cluster_spec': ClusterSpec({}), '_task_type': 'worker', '_task_id': 0, '_global_id_in_cluster': 0, '_master': '', '_evaluation_master': '', '_is_chief': True, '_num_ps_replicas': 0, '_num_worker_replicas': 1}\n"
     ]
    }
   ],
   "source": [
    "classifier = tf.estimator.DNNClassifier(\n",
    "    feature_columns=feature_columns,\n",
    "    hidden_units=[30, 10],\n",
    "    n_classes=3)"
   ]
  },
  {
   "cell_type": "code",
   "execution_count": 31,
   "metadata": {},
   "outputs": [
    {
     "name": "stdout",
     "output_type": "stream",
     "text": [
      "INFO:tensorflow:Calling model_fn.\n",
      "WARNING:tensorflow:Layer dnn is casting an input tensor from dtype float64 to the layer's dtype of float32, which is new behavior in TensorFlow 2.  The layer has dtype float32 because its dtype defaults to floatx.\n",
      "\n",
      "If you intended to run this layer in float32, you can safely ignore this warning. If in doubt, this warning is likely only an issue if you are porting a TensorFlow 1.X model to TensorFlow 2.\n",
      "\n",
      "To change all layers to have dtype float64 by default, call `tf.keras.backend.set_floatx('float64')`. To change just this layer, pass dtype='float64' to the layer constructor. If you are the author of this layer, you can disable autocasting by passing autocast=False to the base Layer constructor.\n",
      "\n",
      "INFO:tensorflow:Done calling model_fn.\n",
      "INFO:tensorflow:Create CheckpointSaverHook.\n",
      "INFO:tensorflow:Graph was finalized.\n",
      "INFO:tensorflow:Restoring parameters from /tmp/tmpz7y0be92/model.ckpt-5000\n",
      "WARNING:tensorflow:From /home/rlllok/anaconda3/lib/python3.7/site-packages/tensorflow/python/training/saver.py:1077: get_checkpoint_mtimes (from tensorflow.python.training.checkpoint_management) is deprecated and will be removed in a future version.\n",
      "Instructions for updating:\n",
      "Use standard file utilities to get mtimes.\n",
      "INFO:tensorflow:Running local_init_op.\n",
      "INFO:tensorflow:Done running local_init_op.\n",
      "INFO:tensorflow:Calling checkpoint listeners before saving checkpoint 5000...\n",
      "INFO:tensorflow:Saving checkpoints for 5000 into /tmp/tmpz7y0be92/model.ckpt.\n",
      "INFO:tensorflow:Calling checkpoint listeners after saving checkpoint 5000...\n",
      "INFO:tensorflow:loss = 0.5015109, step = 5000\n",
      "INFO:tensorflow:global_step/sec: 343.387\n",
      "INFO:tensorflow:loss = 0.5026413, step = 5100 (0.293 sec)\n",
      "INFO:tensorflow:global_step/sec: 506.875\n",
      "INFO:tensorflow:loss = 0.49813575, step = 5200 (0.196 sec)\n",
      "INFO:tensorflow:global_step/sec: 500.282\n",
      "INFO:tensorflow:loss = 0.49019155, step = 5300 (0.200 sec)\n",
      "INFO:tensorflow:global_step/sec: 499.555\n",
      "INFO:tensorflow:loss = 0.48802024, step = 5400 (0.200 sec)\n",
      "INFO:tensorflow:global_step/sec: 843.59\n",
      "INFO:tensorflow:loss = 0.47741312, step = 5500 (0.118 sec)\n",
      "INFO:tensorflow:global_step/sec: 914.932\n",
      "INFO:tensorflow:loss = 0.48924604, step = 5600 (0.109 sec)\n",
      "INFO:tensorflow:global_step/sec: 775.097\n",
      "INFO:tensorflow:loss = 0.47325468, step = 5700 (0.131 sec)\n",
      "INFO:tensorflow:global_step/sec: 518.997\n",
      "INFO:tensorflow:loss = 0.48833162, step = 5800 (0.195 sec)\n",
      "INFO:tensorflow:global_step/sec: 462.044\n",
      "INFO:tensorflow:loss = 0.47500312, step = 5900 (0.216 sec)\n",
      "INFO:tensorflow:global_step/sec: 469.27\n",
      "INFO:tensorflow:loss = 0.4738788, step = 6000 (0.209 sec)\n",
      "INFO:tensorflow:global_step/sec: 439.67\n",
      "INFO:tensorflow:loss = 0.4857146, step = 6100 (0.229 sec)\n",
      "INFO:tensorflow:global_step/sec: 392.619\n",
      "INFO:tensorflow:loss = 0.4644114, step = 6200 (0.252 sec)\n",
      "INFO:tensorflow:global_step/sec: 456.863\n",
      "INFO:tensorflow:loss = 0.4714732, step = 6300 (0.219 sec)\n",
      "INFO:tensorflow:global_step/sec: 501.126\n",
      "INFO:tensorflow:loss = 0.46014345, step = 6400 (0.200 sec)\n",
      "INFO:tensorflow:global_step/sec: 577.018\n",
      "INFO:tensorflow:loss = 0.45563912, step = 6500 (0.173 sec)\n",
      "INFO:tensorflow:global_step/sec: 900.846\n",
      "INFO:tensorflow:loss = 0.4308334, step = 6600 (0.111 sec)\n",
      "INFO:tensorflow:global_step/sec: 922.263\n",
      "INFO:tensorflow:loss = 0.4328632, step = 6700 (0.108 sec)\n",
      "INFO:tensorflow:global_step/sec: 582.215\n",
      "INFO:tensorflow:loss = 0.4268206, step = 6800 (0.172 sec)\n",
      "INFO:tensorflow:global_step/sec: 433.014\n",
      "INFO:tensorflow:loss = 0.4111774, step = 6900 (0.234 sec)\n",
      "INFO:tensorflow:global_step/sec: 389.108\n",
      "INFO:tensorflow:loss = 0.41880488, step = 7000 (0.258 sec)\n",
      "INFO:tensorflow:global_step/sec: 462.179\n",
      "INFO:tensorflow:loss = 0.41506824, step = 7100 (0.215 sec)\n",
      "INFO:tensorflow:global_step/sec: 500.154\n",
      "INFO:tensorflow:loss = 0.4004049, step = 7200 (0.199 sec)\n",
      "INFO:tensorflow:global_step/sec: 464.336\n",
      "INFO:tensorflow:loss = 0.40970278, step = 7300 (0.215 sec)\n",
      "INFO:tensorflow:global_step/sec: 464.367\n",
      "INFO:tensorflow:loss = 0.41318744, step = 7400 (0.215 sec)\n",
      "INFO:tensorflow:global_step/sec: 323.328\n",
      "INFO:tensorflow:loss = 0.4157458, step = 7500 (0.309 sec)\n",
      "INFO:tensorflow:global_step/sec: 920.355\n",
      "INFO:tensorflow:loss = 0.4039209, step = 7600 (0.109 sec)\n",
      "INFO:tensorflow:global_step/sec: 914.653\n",
      "INFO:tensorflow:loss = 0.40495917, step = 7700 (0.109 sec)\n",
      "INFO:tensorflow:global_step/sec: 529.226\n",
      "INFO:tensorflow:loss = 0.4152518, step = 7800 (0.189 sec)\n",
      "INFO:tensorflow:global_step/sec: 502.976\n",
      "INFO:tensorflow:loss = 0.38722295, step = 7900 (0.199 sec)\n",
      "INFO:tensorflow:global_step/sec: 499.316\n",
      "INFO:tensorflow:loss = 0.3912192, step = 8000 (0.200 sec)\n",
      "INFO:tensorflow:global_step/sec: 300.463\n",
      "INFO:tensorflow:loss = 0.38898605, step = 8100 (0.333 sec)\n",
      "INFO:tensorflow:global_step/sec: 498.885\n",
      "INFO:tensorflow:loss = 0.38249844, step = 8200 (0.200 sec)\n",
      "INFO:tensorflow:global_step/sec: 501.18\n",
      "INFO:tensorflow:loss = 0.38966057, step = 8300 (0.200 sec)\n",
      "INFO:tensorflow:global_step/sec: 461.495\n",
      "INFO:tensorflow:loss = 0.38531888, step = 8400 (0.217 sec)\n",
      "INFO:tensorflow:global_step/sec: 522.885\n",
      "INFO:tensorflow:loss = 0.38559887, step = 8500 (0.191 sec)\n",
      "INFO:tensorflow:global_step/sec: 913.032\n",
      "INFO:tensorflow:loss = 0.37805355, step = 8600 (0.110 sec)\n",
      "INFO:tensorflow:global_step/sec: 920.991\n",
      "INFO:tensorflow:loss = 0.37465107, step = 8700 (0.108 sec)\n",
      "INFO:tensorflow:global_step/sec: 697.318\n",
      "INFO:tensorflow:loss = 0.38406125, step = 8800 (0.144 sec)\n",
      "INFO:tensorflow:global_step/sec: 504.318\n",
      "INFO:tensorflow:loss = 0.37227696, step = 8900 (0.198 sec)\n",
      "INFO:tensorflow:global_step/sec: 500.072\n",
      "INFO:tensorflow:loss = 0.36579466, step = 9000 (0.200 sec)\n",
      "INFO:tensorflow:global_step/sec: 372.335\n",
      "INFO:tensorflow:loss = 0.37145382, step = 9100 (0.271 sec)\n",
      "INFO:tensorflow:global_step/sec: 451.317\n",
      "INFO:tensorflow:loss = 0.3617509, step = 9200 (0.223 sec)\n",
      "INFO:tensorflow:global_step/sec: 461.304\n",
      "INFO:tensorflow:loss = 0.36365938, step = 9300 (0.217 sec)\n",
      "INFO:tensorflow:global_step/sec: 501.224\n",
      "INFO:tensorflow:loss = 0.36182243, step = 9400 (0.202 sec)\n",
      "INFO:tensorflow:global_step/sec: 319.944\n",
      "INFO:tensorflow:loss = 0.3575406, step = 9500 (0.306 sec)\n",
      "INFO:tensorflow:global_step/sec: 761.135\n",
      "INFO:tensorflow:loss = 0.3631429, step = 9600 (0.131 sec)\n",
      "INFO:tensorflow:global_step/sec: 905.635\n",
      "INFO:tensorflow:loss = 0.3476571, step = 9700 (0.110 sec)\n",
      "INFO:tensorflow:global_step/sec: 645.361\n",
      "INFO:tensorflow:loss = 0.35687268, step = 9800 (0.155 sec)\n",
      "INFO:tensorflow:global_step/sec: 503.758\n",
      "INFO:tensorflow:loss = 0.36270145, step = 9900 (0.199 sec)\n",
      "INFO:tensorflow:Calling checkpoint listeners before saving checkpoint 10000...\n",
      "INFO:tensorflow:Saving checkpoints for 10000 into /tmp/tmpz7y0be92/model.ckpt.\n",
      "INFO:tensorflow:Calling checkpoint listeners after saving checkpoint 10000...\n",
      "INFO:tensorflow:Loss for final step: 0.34237933.\n"
     ]
    },
    {
     "data": {
      "text/plain": [
       "<tensorflow_estimator.python.estimator.canned.dnn.DNNClassifierV2 at 0x7fbf60930e50>"
      ]
     },
     "execution_count": 31,
     "metadata": {},
     "output_type": "execute_result"
    }
   ],
   "source": [
    "classifier.train(\n",
    "    input_fn=lambda: input_fn(train, train_y, training=True),\n",
    "    steps=5000)"
   ]
  },
  {
   "cell_type": "code",
   "execution_count": 32,
   "metadata": {},
   "outputs": [
    {
     "name": "stdout",
     "output_type": "stream",
     "text": [
      "INFO:tensorflow:Calling model_fn.\n",
      "WARNING:tensorflow:Layer dnn is casting an input tensor from dtype float64 to the layer's dtype of float32, which is new behavior in TensorFlow 2.  The layer has dtype float32 because its dtype defaults to floatx.\n",
      "\n",
      "If you intended to run this layer in float32, you can safely ignore this warning. If in doubt, this warning is likely only an issue if you are porting a TensorFlow 1.X model to TensorFlow 2.\n",
      "\n",
      "To change all layers to have dtype float64 by default, call `tf.keras.backend.set_floatx('float64')`. To change just this layer, pass dtype='float64' to the layer constructor. If you are the author of this layer, you can disable autocasting by passing autocast=False to the base Layer constructor.\n",
      "\n",
      "INFO:tensorflow:Done calling model_fn.\n",
      "INFO:tensorflow:Starting evaluation at 2020-08-19T17:28:07Z\n",
      "INFO:tensorflow:Graph was finalized.\n",
      "INFO:tensorflow:Restoring parameters from /tmp/tmpz7y0be92/model.ckpt-10000\n",
      "INFO:tensorflow:Running local_init_op.\n",
      "INFO:tensorflow:Done running local_init_op.\n",
      "INFO:tensorflow:Inference Time : 0.71084s\n",
      "INFO:tensorflow:Finished evaluation at 2020-08-19-17:28:08\n",
      "INFO:tensorflow:Saving dict for global step 10000: accuracy = 0.93333334, average_loss = 0.4218956, global_step = 10000, loss = 0.4218956\n",
      "INFO:tensorflow:Saving 'checkpoint_path' summary for global step 10000: /tmp/tmpz7y0be92/model.ckpt-10000\n",
      "\n",
      "Test set accuracy: 0.933\n",
      "\n"
     ]
    }
   ],
   "source": [
    "eval_result = classifier.evaluate(\n",
    "    input_fn=lambda: input_fn(test, test_y, training=False))\n",
    "\n",
    "print('\\nTest set accuracy: {accuracy:0.3f}\\n'.format(**eval_result))"
   ]
  },
  {
   "cell_type": "markdown",
   "metadata": {},
   "source": [
    "### Prediction"
   ]
  },
  {
   "cell_type": "code",
   "execution_count": 34,
   "metadata": {},
   "outputs": [
    {
     "name": "stdout",
     "output_type": "stream",
     "text": [
      "Please type numeric values as prompted.\n",
      "SepalLength: 5.1\n",
      "SepalWidth: 3.3\n",
      "PetalLength: 1.7\n",
      "PetalWidth: 0.5\n",
      "INFO:tensorflow:Calling model_fn.\n",
      "INFO:tensorflow:Done calling model_fn.\n",
      "INFO:tensorflow:Graph was finalized.\n",
      "INFO:tensorflow:Restoring parameters from /tmp/tmpz7y0be92/model.ckpt-10000\n",
      "INFO:tensorflow:Running local_init_op.\n",
      "INFO:tensorflow:Done running local_init_op.\n",
      "Prediction is \"Setosa\" (89.5%)\n"
     ]
    }
   ],
   "source": [
    "def input_fn(features, batch_size=256):\n",
    "    # Convert the inputs to a Dataset without labels.\n",
    "    return tf.data.Dataset.from_tensor_slices(dict(features)).batch(batch_size)\n",
    "\n",
    "features = ['SepalLength', 'SepalWidth', 'PetalLength', 'PetalWidth']\n",
    "predict = {}\n",
    "\n",
    "print(\"Please type numeric values as prompted.\")\n",
    "for feature in features:\n",
    "  valid = True\n",
    "  while valid: \n",
    "    val = input(feature + \": \")\n",
    "    if not val.isdigit(): valid = False\n",
    "\n",
    "  predict[feature] = [float(val)]\n",
    "\n",
    "predictions = classifier.predict(input_fn=lambda: input_fn(predict))\n",
    "for pred_dict in predictions:\n",
    "    class_id = pred_dict['class_ids'][0]\n",
    "    probability = pred_dict['probabilities'][class_id]\n",
    "\n",
    "    print('Prediction is \"{}\" ({:.1f}%)'.format(\n",
    "        SPECIES[class_id], 100 * probability))"
   ]
  },
  {
   "cell_type": "code",
   "execution_count": null,
   "metadata": {},
   "outputs": [],
   "source": []
  }
 ],
 "metadata": {
  "kernelspec": {
   "display_name": "Python 3",
   "language": "python",
   "name": "python3"
  },
  "language_info": {
   "codemirror_mode": {
    "name": "ipython",
    "version": 3
   },
   "file_extension": ".py",
   "mimetype": "text/x-python",
   "name": "python",
   "nbconvert_exporter": "python",
   "pygments_lexer": "ipython3",
   "version": "3.7.6"
  }
 },
 "nbformat": 4,
 "nbformat_minor": 4
}
