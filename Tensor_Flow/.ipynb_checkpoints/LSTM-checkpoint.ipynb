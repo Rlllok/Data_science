{
 "cells": [
  {
   "cell_type": "code",
   "execution_count": 7,
   "metadata": {},
   "outputs": [],
   "source": [
    "import tensorflow as tf\n",
    "import numpy as np\n",
    "import os\n",
    "from tensorflow.keras.datasets import imdb\n",
    "from tensorflow.keras.preprocessing import sequence\n"
   ]
  },
  {
   "cell_type": "code",
   "execution_count": 8,
   "metadata": {},
   "outputs": [
    {
     "name": "stdout",
     "output_type": "stream",
     "text": [
      "Downloading data from https://storage.googleapis.com/tensorflow/tf-keras-datasets/imdb.npz\n",
      "17465344/17464789 [==============================] - 3s 0us/step\n"
     ]
    }
   ],
   "source": [
    "VOCAB_SIZE = 88584\n",
    "MAXLEN = 250\n",
    "BATCH_SIZE = 64\n",
    "\n",
    "(train_data, train_labels), (test_data, test_labels) = imdb.load_data(num_words=VOCAB_SIZE)"
   ]
  },
  {
   "cell_type": "code",
   "execution_count": 11,
   "metadata": {},
   "outputs": [],
   "source": [
    "def decode(integers, index_word):\n",
    "    PAD = 0\n",
    "    text = \"\"\n",
    "    for num in integers:\n",
    "        if num != PAD:\n",
    "            text += index_word[num] + ' '\n",
    "    return text[:-1]"
   ]
  },
  {
   "cell_type": "code",
   "execution_count": 16,
   "metadata": {},
   "outputs": [],
   "source": [
    "def encode(text, word_index, max_len=MAXLEN):\n",
    "    tokens = tf.keras.preprocessing.text.text_to_word_sequence(text)\n",
    "    tokens = [word_index[word] if word in word_index else 0 for word in tokens]\n",
    "    return sequence.pad_sequences([tokens], MAXLEN)[0]"
   ]
  },
  {
   "cell_type": "code",
   "execution_count": 13,
   "metadata": {},
   "outputs": [
    {
     "name": "stdout",
     "output_type": "stream",
     "text": [
      "Downloading data from https://storage.googleapis.com/tensorflow/tf-keras-datasets/imdb_word_index.json\n",
      "1646592/1641221 [==============================] - 0s 0us/step\n"
     ]
    }
   ],
   "source": [
    "word_index = imdb.get_word_index()\n",
    "index_word = {value: key for (key, value) in word_index.items()}"
   ]
  },
  {
   "cell_type": "code",
   "execution_count": 21,
   "metadata": {},
   "outputs": [],
   "source": [
    "train_data = sequence.pad_sequences(train_data, MAXLEN)\n",
    "test_data = sequence.pad_sequences(test_data, MAXLEN)"
   ]
  },
  {
   "cell_type": "code",
   "execution_count": 19,
   "metadata": {},
   "outputs": [],
   "source": [
    "# CREATING MODEL\n",
    "model = tf.keras.Sequential([\n",
    "    tf.keras.layers.Embedding(VOCAB_SIZE, 32),\n",
    "    tf.keras.layers.LSTM(32),\n",
    "    tf.keras.layers.Dense(1, activation='sigmoid')\n",
    "])"
   ]
  },
  {
   "cell_type": "code",
   "execution_count": 22,
   "metadata": {},
   "outputs": [
    {
     "name": "stdout",
     "output_type": "stream",
     "text": [
      "Epoch 1/10\n",
      "625/625 [==============================] - 54s 86ms/step - loss: 0.4317 - acc: 0.7890 - val_loss: 0.3108 - val_acc: 0.8774\n",
      "Epoch 2/10\n",
      "625/625 [==============================] - 67s 107ms/step - loss: 0.1763 - acc: 0.9372 - val_loss: 0.3174 - val_acc: 0.8678\n",
      "Epoch 3/10\n",
      "625/625 [==============================] - 73s 117ms/step - loss: 0.0939 - acc: 0.9689 - val_loss: 0.5119 - val_acc: 0.8690\n",
      "Epoch 4/10\n",
      "625/625 [==============================] - 74s 119ms/step - loss: 0.0632 - acc: 0.9810 - val_loss: 0.5284 - val_acc: 0.8508\n",
      "Epoch 5/10\n",
      "625/625 [==============================] - 51s 82ms/step - loss: 0.0508 - acc: 0.9823 - val_loss: 0.5788 - val_acc: 0.8630\n",
      "Epoch 6/10\n",
      "625/625 [==============================] - 73s 117ms/step - loss: 0.0366 - acc: 0.9884 - val_loss: 0.5164 - val_acc: 0.8626\n",
      "Epoch 7/10\n",
      "625/625 [==============================] - 73s 117ms/step - loss: 0.0177 - acc: 0.9952 - val_loss: 0.6644 - val_acc: 0.8646\n",
      "Epoch 8/10\n",
      "625/625 [==============================] - 73s 117ms/step - loss: 0.0158 - acc: 0.9958 - val_loss: 0.6580 - val_acc: 0.8486\n",
      "Epoch 9/10\n",
      "625/625 [==============================] - 72s 116ms/step - loss: 0.0108 - acc: 0.9977 - val_loss: 0.7398 - val_acc: 0.8628\n",
      "Epoch 10/10\n",
      "625/625 [==============================] - 73s 116ms/step - loss: 0.0298 - acc: 0.9891 - val_loss: 0.5837 - val_acc: 0.8516\n"
     ]
    }
   ],
   "source": [
    "model.compile(loss='binary_crossentropy',optimizer='adam', metrics=['acc'])\n",
    "history = model.fit(train_data, train_labels, epochs=10, validation_split=0.2)"
   ]
  },
  {
   "cell_type": "code",
   "execution_count": 23,
   "metadata": {},
   "outputs": [],
   "source": [
    "def predict(text):\n",
    "    encoded_text = encode(text, word_index)\n",
    "    pred = [encoded_text]\n",
    "    return model.predict(pred)    "
   ]
  },
  {
   "cell_type": "code",
   "execution_count": 24,
   "metadata": {},
   "outputs": [
    {
     "data": {
      "text/plain": [
       "array([[0.9893925]], dtype=float32)"
      ]
     },
     "execution_count": 24,
     "metadata": {},
     "output_type": "execute_result"
    }
   ],
   "source": [
    "positive_review = \"That movie was! really loved it and would great watch it again because it was amazingly great\"\n",
    "predict(positive_review)"
   ]
  },
  {
   "cell_type": "code",
   "execution_count": null,
   "metadata": {},
   "outputs": [],
   "source": []
  }
 ],
 "metadata": {
  "kernelspec": {
   "display_name": "Python 3",
   "language": "python",
   "name": "python3"
  },
  "language_info": {
   "codemirror_mode": {
    "name": "ipython",
    "version": 3
   },
   "file_extension": ".py",
   "mimetype": "text/x-python",
   "name": "python",
   "nbconvert_exporter": "python",
   "pygments_lexer": "ipython3",
   "version": "3.7.6"
  }
 },
 "nbformat": 4,
 "nbformat_minor": 4
}
